{
 "cells": [
  {
   "cell_type": "code",
   "execution_count": 1,
   "metadata": {},
   "outputs": [
    {
     "name": "stdout",
     "output_type": "stream",
     "text": [
      "WARNING:tensorflow:From c:\\Users\\HP\\AppData\\Local\\Programs\\Python\\Python310\\lib\\site-packages\\keras\\src\\losses.py:2976: The name tf.losses.sparse_softmax_cross_entropy is deprecated. Please use tf.compat.v1.losses.sparse_softmax_cross_entropy instead.\n",
      "\n"
     ]
    }
   ],
   "source": [
    "docs = ['go india',\n",
    "\t\t'india india',\n",
    "\t\t'hip hip hurray',\n",
    "\t\t'jeetega bhai jeetega india jeetega',\n",
    "\t\t'bharat mata ki jai',\n",
    "\t\t'kohli kohli',\n",
    "\t\t'sachin sachin',\n",
    "\t\t'dhoni dhoni',\n",
    "\t\t'modi ji ki jai',\n",
    "\t\t'inquilab zindabad']\n",
    "from keras.datasets import imdb\n",
    "from keras import Sequential\n",
    "from keras.layers import Dense,SimpleRNN,Embedding,Flatten\n",
    "from keras.utils import pad_sequences"
   ]
  },
  {
   "cell_type": "code",
   "execution_count": 2,
   "metadata": {},
   "outputs": [],
   "source": [
    "\n",
    "from keras.preprocessing.text import Tokenizer\n",
    "tokenizer=Tokenizer()"
   ]
  },
  {
   "cell_type": "code",
   "execution_count": 3,
   "metadata": {},
   "outputs": [],
   "source": [
    "tokenizer.fit_on_texts(docs)"
   ]
  },
  {
   "cell_type": "code",
   "execution_count": 4,
   "metadata": {},
   "outputs": [
    {
     "data": {
      "text/plain": [
       "17"
      ]
     },
     "execution_count": 4,
     "metadata": {},
     "output_type": "execute_result"
    }
   ],
   "source": [
    "len(tokenizer.word_index)"
   ]
  },
  {
   "cell_type": "code",
   "execution_count": 5,
   "metadata": {},
   "outputs": [
    {
     "data": {
      "text/plain": [
       "[[9, 1],\n",
       " [1, 1],\n",
       " [3, 3, 10],\n",
       " [2, 11, 2, 1, 2],\n",
       " [12, 13, 4, 5],\n",
       " [6, 6],\n",
       " [7, 7],\n",
       " [8, 8],\n",
       " [14, 15, 4, 5],\n",
       " [16, 17]]"
      ]
     },
     "execution_count": 5,
     "metadata": {},
     "output_type": "execute_result"
    }
   ],
   "source": [
    "sequences=tokenizer.texts_to_sequences(docs)\n",
    "sequences"
   ]
  },
  {
   "cell_type": "code",
   "execution_count": 6,
   "metadata": {},
   "outputs": [
    {
     "data": {
      "text/plain": [
       "array([[ 9,  1,  0,  0,  0],\n",
       "       [ 1,  1,  0,  0,  0],\n",
       "       [ 3,  3, 10,  0,  0],\n",
       "       [ 2, 11,  2,  1,  2],\n",
       "       [12, 13,  4,  5,  0],\n",
       "       [ 6,  6,  0,  0,  0],\n",
       "       [ 7,  7,  0,  0,  0],\n",
       "       [ 8,  8,  0,  0,  0],\n",
       "       [14, 15,  4,  5,  0],\n",
       "       [16, 17,  0,  0,  0]])"
      ]
     },
     "execution_count": 6,
     "metadata": {},
     "output_type": "execute_result"
    }
   ],
   "source": [
    "from keras.utils import pad_sequences\n",
    "sequences=pad_sequences(sequences,padding='post')\n",
    "sequences"
   ]
  },
  {
   "cell_type": "code",
   "execution_count": 10,
   "metadata": {},
   "outputs": [
    {
     "name": "stdout",
     "output_type": "stream",
     "text": [
      "Model: \"sequential_1\"\n",
      "_________________________________________________________________\n",
      " Layer (type)                Output Shape              Param #   \n",
      "=================================================================\n",
      " embedding_1 (Embedding)     (None, 5, 2)              36        \n",
      "                                                                 \n",
      "=================================================================\n",
      "Total params: 36 (144.00 Byte)\n",
      "Trainable params: 36 (144.00 Byte)\n",
      "Non-trainable params: 0 (0.00 Byte)\n",
      "_________________________________________________________________\n"
     ]
    }
   ],
   "source": [
    "model=Sequential()\n",
    "model.add(Embedding(18,output_dim=2,input_length=5))#as  18 is not included\n",
    "model.summary()"
   ]
  },
  {
   "cell_type": "code",
   "execution_count": 11,
   "metadata": {},
   "outputs": [],
   "source": [
    "model.compile('adam','accuracy')"
   ]
  },
  {
   "cell_type": "code",
   "execution_count": 12,
   "metadata": {},
   "outputs": [
    {
     "name": "stdout",
     "output_type": "stream",
     "text": [
      "1/1 [==============================] - 0s 53ms/step\n",
      "[[[-0.03334175 -0.00865825]\n",
      "  [ 0.01783006 -0.04273646]\n",
      "  [ 0.04153052 -0.02088368]\n",
      "  [ 0.04153052 -0.02088368]\n",
      "  [ 0.04153052 -0.02088368]]\n",
      "\n",
      " [[ 0.01783006 -0.04273646]\n",
      "  [ 0.01783006 -0.04273646]\n",
      "  [ 0.04153052 -0.02088368]\n",
      "  [ 0.04153052 -0.02088368]\n",
      "  [ 0.04153052 -0.02088368]]\n",
      "\n",
      " [[-0.0102476   0.0120285 ]\n",
      "  [-0.0102476   0.0120285 ]\n",
      "  [ 0.04000929  0.00283783]\n",
      "  [ 0.04153052 -0.02088368]\n",
      "  [ 0.04153052 -0.02088368]]\n",
      "\n",
      " [[-0.04364777  0.02917219]\n",
      "  [ 0.01515235  0.02081008]\n",
      "  [-0.04364777  0.02917219]\n",
      "  [ 0.01783006 -0.04273646]\n",
      "  [-0.04364777  0.02917219]]\n",
      "\n",
      " [[ 0.02801486  0.0112018 ]\n",
      "  [-0.01465363 -0.02507273]\n",
      "  [-0.04295559  0.04029541]\n",
      "  [ 0.04370986  0.02376494]\n",
      "  [ 0.04153052 -0.02088368]]\n",
      "\n",
      " [[ 0.04537458  0.04941691]\n",
      "  [ 0.04537458  0.04941691]\n",
      "  [ 0.04153052 -0.02088368]\n",
      "  [ 0.04153052 -0.02088368]\n",
      "  [ 0.04153052 -0.02088368]]\n",
      "\n",
      " [[-0.01365839 -0.02782468]\n",
      "  [-0.01365839 -0.02782468]\n",
      "  [ 0.04153052 -0.02088368]\n",
      "  [ 0.04153052 -0.02088368]\n",
      "  [ 0.04153052 -0.02088368]]\n",
      "\n",
      " [[-0.03911044 -0.01420032]\n",
      "  [-0.03911044 -0.01420032]\n",
      "  [ 0.04153052 -0.02088368]\n",
      "  [ 0.04153052 -0.02088368]\n",
      "  [ 0.04153052 -0.02088368]]\n",
      "\n",
      " [[-0.04714011  0.00510312]\n",
      "  [ 0.02561332 -0.02251407]\n",
      "  [-0.04295559  0.04029541]\n",
      "  [ 0.04370986  0.02376494]\n",
      "  [ 0.04153052 -0.02088368]]\n",
      "\n",
      " [[-0.00874109  0.03174533]\n",
      "  [-0.0125314   0.02040276]\n",
      "  [ 0.04153052 -0.02088368]\n",
      "  [ 0.04153052 -0.02088368]\n",
      "  [ 0.04153052 -0.02088368]]]\n"
     ]
    }
   ],
   "source": [
    "pred=model.predict(sequences)\n",
    "print(pred)"
   ]
  },
  {
   "cell_type": "code",
   "execution_count": null,
   "metadata": {},
   "outputs": [],
   "source": []
  }
 ],
 "metadata": {
  "kernelspec": {
   "display_name": "Python 3",
   "language": "python",
   "name": "python3"
  },
  "language_info": {
   "codemirror_mode": {
    "name": "ipython",
    "version": 3
   },
   "file_extension": ".py",
   "mimetype": "text/x-python",
   "name": "python",
   "nbconvert_exporter": "python",
   "pygments_lexer": "ipython3",
   "version": "3.10.7"
  }
 },
 "nbformat": 4,
 "nbformat_minor": 2
}
